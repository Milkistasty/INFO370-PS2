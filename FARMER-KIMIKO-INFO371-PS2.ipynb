{
 "cells": [
  {
   "cell_type": "markdown",
   "metadata": {
    "ein.tags": [
     "worksheet-0"
    ],
    "slideshow": {
     "slide_type": "-"
    }
   },
   "source": [
    "# Problem Set 2, due April 26 at 3:30pm."
   ]
  },
  {
   "cell_type": "markdown",
   "metadata": {
    "ein.tags": [
     "worksheet-0"
    ],
    "slideshow": {
     "slide_type": "-"
    }
   },
   "source": [
    "## Introduction to the assignment\n",
    "\n",
    "For this assignment, you will be using data from the [Progresa program](http://en.wikipedia.org/wiki/Oportunidades), a government social assistance program in Mexico. This program, as well as the details of its impact, are described in the paper \"[School subsidies for the poor: evaluating the Mexican Progresa poverty program](http://www.sciencedirect.com/science/article/pii/S0304387803001858)\", by Paul Shultz (available on Canvas). Please familiarize yourself with the PROGRESA program before beginning this problem set, so you have a rough sense of where the data come from and how they were generated. If you just proceed into the problem set without understanding Progresa or the data, it will be very difficult!\n",
    "\n",
    "The goal of this problem set is to implement some of the basic econometric techniques that you are learning in class to measure the impact of Progresa on secondary school enrollment rates. The timeline of the program was:\n",
    "\n",
    " * Baseline survey conducted in 1997\n",
    " * Intervention begins in 1998, \"Wave 1\" of data collected in 1998\n",
    " * \"Wave 2 of data\" collected in 1999\n",
    " * Evaluation ends in 2000, at which point the control villages were treated. \n",
    " \n",
    "When you are ready, download the progresa_sample.csv data from Canvas. The data are actual data collected to evaluate the impact of the Progresa program.  In this file, each row corresponds to an observation taken for a given child for a given year. There are two years of data (1997 and 1998), and just under 40,000 children who are surveyed in both years.  For each child-year observation, the following variables are collected:\n",
    "\n",
    "| Variable name | Description|\n",
    "|------|------|\n",
    "|year\t  |year in which data is collected\n",
    "|sex\t  |male = 1|\n",
    "|indig\t  |indigenous = 1|\n",
    "|dist_sec |nearest distance to a secondary school|\n",
    "|sc\t      |enrolled in school in year of survey|\n",
    "|grc      |grade enrolled|\n",
    "|fam_n    |family size|\n",
    "|min_dist |\tmin distance to an urban center|\n",
    "|dist_cap |\tmin distance to the capital|\n",
    "|poor     |\tpoor = \"pobre\"|\n",
    "|progresa |treatment = \"basal\"|\n",
    "|hohedu\t  |years of schooling of head of household|\n",
    "|hohwag\t  |monthly wages of head of household|\n",
    "|welfare_index|\twelfare index used to classify poor|\n",
    "|hohsex\t|gender of head of household (male=1)|\n",
    "|hohage\t|age of head of household|\n",
    "|age\t|years old|\n",
    "|folnum\t|individual id|\n",
    "|village|\tvillage id|\n",
    "|sc97\t|schooling in 1997|"
   ]
  },
  {
   "cell_type": "markdown",
   "metadata": {
    "ein.tags": [
     "worksheet-0"
    ],
    "slideshow": {
     "slide_type": "-"
    }
   },
   "source": [
    "---\n",
    "\n",
    "## Part 1: Descriptive analysis\n",
    "\n",
    "### 1.1\tSummary Statistics\n",
    "\n",
    "Present summary statistics (mean and standard deviation) for all of the demographic variables in the dataset (i.e., everything except year, folnum, village). Present these in a single table alphabetized by variable name. Do NOT simply expect the grader to scroll through your output!"
   ]
  },
  {
   "cell_type": "code",
   "execution_count": 164,
   "metadata": {
    "collapsed": false
   },
   "outputs": [],
   "source": [
    "# importing modules\n",
    "import pandas as pd\n",
    "from pandas import DataFrame,Series\n",
    "import numpy as np\n",
    "import scipy.stats as stats\n",
    "import matplotlib.pyplot as plt\n",
    "import statsmodels.api as sm\n",
    "%matplotlib inline"
   ]
  },
  {
   "cell_type": "code",
   "execution_count": 178,
   "metadata": {
    "autoscroll": "json-false",
    "collapsed": false,
    "ein.tags": [
     "worksheet-0"
    ],
    "slideshow": {
     "slide_type": "-"
    }
   },
   "outputs": [
    {
     "data": {
      "text/html": [
       "<div>\n",
       "<table border=\"1\" class=\"dataframe\">\n",
       "  <thead>\n",
       "    <tr style=\"text-align: right;\">\n",
       "      <th></th>\n",
       "      <th>Mean</th>\n",
       "      <th>Standard Deviation</th>\n",
       "    </tr>\n",
       "  </thead>\n",
       "  <tbody>\n",
       "    <tr>\n",
       "      <th>age</th>\n",
       "      <td>11.366460</td>\n",
       "      <td>3.167744</td>\n",
       "    </tr>\n",
       "    <tr>\n",
       "      <th>dist_cap</th>\n",
       "      <td>147.674452</td>\n",
       "      <td>76.063134</td>\n",
       "    </tr>\n",
       "    <tr>\n",
       "      <th>dist_sec</th>\n",
       "      <td>2.418910</td>\n",
       "      <td>2.234109</td>\n",
       "    </tr>\n",
       "    <tr>\n",
       "      <th>fam_n</th>\n",
       "      <td>7.215715</td>\n",
       "      <td>2.352900</td>\n",
       "    </tr>\n",
       "    <tr>\n",
       "      <th>grc</th>\n",
       "      <td>3.963537</td>\n",
       "      <td>2.499063</td>\n",
       "    </tr>\n",
       "    <tr>\n",
       "      <th>grc97</th>\n",
       "      <td>3.705372</td>\n",
       "      <td>2.572387</td>\n",
       "    </tr>\n",
       "    <tr>\n",
       "      <th>hohage</th>\n",
       "      <td>44.436717</td>\n",
       "      <td>11.620372</td>\n",
       "    </tr>\n",
       "    <tr>\n",
       "      <th>hohedu</th>\n",
       "      <td>2.768104</td>\n",
       "      <td>2.656106</td>\n",
       "    </tr>\n",
       "    <tr>\n",
       "      <th>hohsex</th>\n",
       "      <td>0.925185</td>\n",
       "      <td>0.263095</td>\n",
       "    </tr>\n",
       "    <tr>\n",
       "      <th>hohwag</th>\n",
       "      <td>586.985312</td>\n",
       "      <td>788.133664</td>\n",
       "    </tr>\n",
       "    <tr>\n",
       "      <th>indig</th>\n",
       "      <td>0.298324</td>\n",
       "      <td>0.457525</td>\n",
       "    </tr>\n",
       "    <tr>\n",
       "      <th>min_dist</th>\n",
       "      <td>103.447520</td>\n",
       "      <td>42.089441</td>\n",
       "    </tr>\n",
       "    <tr>\n",
       "      <th>sc</th>\n",
       "      <td>0.819818</td>\n",
       "      <td>0.384342</td>\n",
       "    </tr>\n",
       "    <tr>\n",
       "      <th>sc97</th>\n",
       "      <td>0.813922</td>\n",
       "      <td>0.389172</td>\n",
       "    </tr>\n",
       "    <tr>\n",
       "      <th>sex</th>\n",
       "      <td>0.512211</td>\n",
       "      <td>0.499854</td>\n",
       "    </tr>\n",
       "    <tr>\n",
       "      <th>welfare_index</th>\n",
       "      <td>690.346564</td>\n",
       "      <td>139.491130</td>\n",
       "    </tr>\n",
       "  </tbody>\n",
       "</table>\n",
       "</div>"
      ],
      "text/plain": [
       "                     Mean  Standard Deviation\n",
       "age             11.366460            3.167744\n",
       "dist_cap       147.674452           76.063134\n",
       "dist_sec         2.418910            2.234109\n",
       "fam_n            7.215715            2.352900\n",
       "grc              3.963537            2.499063\n",
       "grc97            3.705372            2.572387\n",
       "hohage          44.436717           11.620372\n",
       "hohedu           2.768104            2.656106\n",
       "hohsex           0.925185            0.263095\n",
       "hohwag         586.985312          788.133664\n",
       "indig            0.298324            0.457525\n",
       "min_dist       103.447520           42.089441\n",
       "sc               0.819818            0.384342\n",
       "sc97             0.813922            0.389172\n",
       "sex              0.512211            0.499854\n",
       "welfare_index  690.346564          139.491130"
      ]
     },
     "execution_count": 178,
     "metadata": {},
     "output_type": "execute_result"
    }
   ],
   "source": [
    "# read in the file\n",
    "progresa = pd.read_csv(\"progresa_sample.csv\")\n",
    "progresa_df = progresa.drop(['year', 'folnum', 'village'], axis=1)\n",
    "\n",
    "summary = pd.DataFrame([progresa_df.mean(), progresa_df.std()])\n",
    "summary = summary.T\n",
    "summary.columns = ['Mean', 'Standard Deviation']\n",
    "summary = summary.sort_index()\n",
    "summary"
   ]
  },
  {
   "cell_type": "markdown",
   "metadata": {
    "ein.tags": [
     "worksheet-0"
    ],
    "slideshow": {
     "slide_type": "-"
    }
   },
   "source": [
    "### 1.2 Differences at baseline?\n",
    "\n",
    "Are the baseline (1997) demographic characteristics **for the poor**  different in treatment and control villages? Hint: Use a T-Test to determine whether there is a statistically significant difference in the average values of each of the variables in the dataset. Focus only on the data from 1997 for individuals who are poor (i.e., poor=='pobre').\n",
    "\n",
    "Present your results in a single table with the following columns and 14 (or so) rows:\n",
    "\n",
    "| Variable name | Average value (Treatment villages) | Average value (Control villages) | Difference (Treat - Control) | p-value |\n",
    "|------|------|------|------|------|\n",
    "|Male|?|?|?|?|\n"
   ]
  },
  {
   "cell_type": "code",
   "execution_count": 107,
   "metadata": {
    "autoscroll": "json-false",
    "collapsed": false,
    "ein.tags": [
     "worksheet-0"
    ],
    "slideshow": {
     "slide_type": "-"
    }
   },
   "outputs": [
    {
     "data": {
      "text/html": [
       "<div>\n",
       "<table border=\"1\" class=\"dataframe\">\n",
       "  <thead>\n",
       "    <tr style=\"text-align: right;\">\n",
       "      <th></th>\n",
       "      <th>Variable name</th>\n",
       "      <th>Average value (Treatment villages)</th>\n",
       "      <th>Average value (Control villages)</th>\n",
       "      <th>Difference (Treat - Control)</th>\n",
       "      <th>p-value</th>\n",
       "    </tr>\n",
       "  </thead>\n",
       "  <tbody>\n",
       "    <tr>\n",
       "      <th>13</th>\n",
       "      <td>age</td>\n",
       "      <td>10.717</td>\n",
       "      <td>10.742</td>\n",
       "      <td>-0.025032</td>\n",
       "      <td>0.478559</td>\n",
       "    </tr>\n",
       "    <tr>\n",
       "      <th>7</th>\n",
       "      <td>dist_cap</td>\n",
       "      <td>150.829</td>\n",
       "      <td>153.77</td>\n",
       "      <td>-2.94066</td>\n",
       "      <td>0.000841501</td>\n",
       "    </tr>\n",
       "    <tr>\n",
       "      <th>2</th>\n",
       "      <td>dist_sec</td>\n",
       "      <td>2.45312</td>\n",
       "      <td>2.50766</td>\n",
       "      <td>-0.0545398</td>\n",
       "      <td>0.0356984</td>\n",
       "    </tr>\n",
       "    <tr>\n",
       "      <th>5</th>\n",
       "      <td>fam_n</td>\n",
       "      <td>7.28133</td>\n",
       "      <td>7.30247</td>\n",
       "      <td>-0.0211419</td>\n",
       "      <td>0.427104</td>\n",
       "    </tr>\n",
       "    <tr>\n",
       "      <th>15</th>\n",
       "      <td>folnum</td>\n",
       "      <td>19321.2</td>\n",
       "      <td>19272.8</td>\n",
       "      <td>48.3239</td>\n",
       "      <td>0.703108</td>\n",
       "    </tr>\n",
       "    <tr>\n",
       "      <th>4</th>\n",
       "      <td>grc</td>\n",
       "      <td>3.5316</td>\n",
       "      <td>3.54305</td>\n",
       "      <td>-0.0114503</td>\n",
       "      <td>0.689015</td>\n",
       "    </tr>\n",
       "    <tr>\n",
       "      <th>16</th>\n",
       "      <td>grc97</td>\n",
       "      <td>3.5316</td>\n",
       "      <td>3.54305</td>\n",
       "      <td>-0.0114503</td>\n",
       "      <td>0.689015</td>\n",
       "    </tr>\n",
       "    <tr>\n",
       "      <th>12</th>\n",
       "      <td>hohage</td>\n",
       "      <td>43.6488</td>\n",
       "      <td>44.2769</td>\n",
       "      <td>-0.62809</td>\n",
       "      <td>1.79624e-06</td>\n",
       "    </tr>\n",
       "    <tr>\n",
       "      <th>8</th>\n",
       "      <td>hohedu</td>\n",
       "      <td>2.66314</td>\n",
       "      <td>2.59035</td>\n",
       "      <td>0.0727912</td>\n",
       "      <td>0.0110509</td>\n",
       "    </tr>\n",
       "    <tr>\n",
       "      <th>11</th>\n",
       "      <td>hohsex</td>\n",
       "      <td>0.924656</td>\n",
       "      <td>0.922947</td>\n",
       "      <td>0.00170878</td>\n",
       "      <td>0.571186</td>\n",
       "    </tr>\n",
       "    <tr>\n",
       "      <th>9</th>\n",
       "      <td>hohwag</td>\n",
       "      <td>544.34</td>\n",
       "      <td>573.164</td>\n",
       "      <td>-28.824</td>\n",
       "      <td>0.000325384</td>\n",
       "    </tr>\n",
       "    <tr>\n",
       "      <th>1</th>\n",
       "      <td>indig</td>\n",
       "      <td>0.325986</td>\n",
       "      <td>0.332207</td>\n",
       "      <td>-0.00622198</td>\n",
       "      <td>0.24536</td>\n",
       "    </tr>\n",
       "    <tr>\n",
       "      <th>6</th>\n",
       "      <td>min_dist</td>\n",
       "      <td>107.153</td>\n",
       "      <td>103.238</td>\n",
       "      <td>3.91506</td>\n",
       "      <td>2.35831e-16</td>\n",
       "    </tr>\n",
       "    <tr>\n",
       "      <th>3</th>\n",
       "      <td>sc</td>\n",
       "      <td>0.822697</td>\n",
       "      <td>0.815186</td>\n",
       "      <td>0.00751088</td>\n",
       "      <td>0.0951781</td>\n",
       "    </tr>\n",
       "    <tr>\n",
       "      <th>17</th>\n",
       "      <td>sc97</td>\n",
       "      <td>0.822697</td>\n",
       "      <td>0.815186</td>\n",
       "      <td>0.00751088</td>\n",
       "      <td>0.0951781</td>\n",
       "    </tr>\n",
       "    <tr>\n",
       "      <th>0</th>\n",
       "      <td>sex</td>\n",
       "      <td>0.519317</td>\n",
       "      <td>0.505052</td>\n",
       "      <td>0.0142652</td>\n",
       "      <td>0.0121917</td>\n",
       "    </tr>\n",
       "    <tr>\n",
       "      <th>14</th>\n",
       "      <td>village</td>\n",
       "      <td>233.795</td>\n",
       "      <td>286.363</td>\n",
       "      <td>-52.5681</td>\n",
       "      <td>2.11402e-205</td>\n",
       "    </tr>\n",
       "    <tr>\n",
       "      <th>10</th>\n",
       "      <td>welfare_index</td>\n",
       "      <td>655.428</td>\n",
       "      <td>659.579</td>\n",
       "      <td>-4.15072</td>\n",
       "      <td>0.00143102</td>\n",
       "    </tr>\n",
       "  </tbody>\n",
       "</table>\n",
       "</div>"
      ],
      "text/plain": [
       "    Variable name Average value (Treatment villages)  \\\n",
       "13            age                             10.717   \n",
       "7        dist_cap                            150.829   \n",
       "2        dist_sec                            2.45312   \n",
       "5           fam_n                            7.28133   \n",
       "15         folnum                            19321.2   \n",
       "4             grc                             3.5316   \n",
       "16          grc97                             3.5316   \n",
       "12         hohage                            43.6488   \n",
       "8          hohedu                            2.66314   \n",
       "11         hohsex                           0.924656   \n",
       "9          hohwag                             544.34   \n",
       "1           indig                           0.325986   \n",
       "6        min_dist                            107.153   \n",
       "3              sc                           0.822697   \n",
       "17           sc97                           0.822697   \n",
       "0             sex                           0.519317   \n",
       "14        village                            233.795   \n",
       "10  welfare_index                            655.428   \n",
       "\n",
       "   Average value (Control villages) Difference (Treat - Control)       p-value  \n",
       "13                           10.742                    -0.025032      0.478559  \n",
       "7                            153.77                     -2.94066   0.000841501  \n",
       "2                           2.50766                   -0.0545398     0.0356984  \n",
       "5                           7.30247                   -0.0211419      0.427104  \n",
       "15                          19272.8                      48.3239      0.703108  \n",
       "4                           3.54305                   -0.0114503      0.689015  \n",
       "16                          3.54305                   -0.0114503      0.689015  \n",
       "12                          44.2769                     -0.62809   1.79624e-06  \n",
       "8                           2.59035                    0.0727912     0.0110509  \n",
       "11                         0.922947                   0.00170878      0.571186  \n",
       "9                           573.164                      -28.824   0.000325384  \n",
       "1                          0.332207                  -0.00622198       0.24536  \n",
       "6                           103.238                      3.91506   2.35831e-16  \n",
       "3                          0.815186                   0.00751088     0.0951781  \n",
       "17                         0.815186                   0.00751088     0.0951781  \n",
       "0                          0.505052                    0.0142652     0.0121917  \n",
       "14                          286.363                     -52.5681  2.11402e-205  \n",
       "10                          659.579                     -4.15072    0.00143102  "
      ]
     },
     "execution_count": 107,
     "metadata": {},
     "output_type": "execute_result"
    }
   ],
   "source": [
    "treatment_village = progresa.loc[(progresa['poor'] == 'pobre') & (progresa['year'] == 97) & (progresa['progresa'] == 'basal')]\n",
    "control_village = progresa.loc[(progresa['poor'] == 'pobre') & (progresa['year'] == 97) & (progresa['progresa'] != 'basal')]\n",
    "\n",
    "treatment_village = treatment_village.drop(['poor', 'year', 'progresa'], axis = 1)\n",
    "control_village = control_village.drop(['poor', 'year', 'progresa'], axis = 1)\n",
    "\n",
    "baseline = pd.DataFrame(columns= ['Variable name', 'Average value (Treatment villages)','Average value (Control villages)','Difference (Treat - Control)','p-value'])\n",
    "cols = [col for col in treatment_village]\n",
    "\n",
    "for i in cols:\n",
    "    treatment_average = treatment_village[i].mean()\n",
    "    control_average = control_village[i].mean()\n",
    "    \n",
    "    baseline.set_value(cols.index(i),'Variable name', i)\n",
    "    baseline.set_value(cols.index(i), 'Average value (Treatment villages)', treatment_average)\n",
    "    baseline.set_value(cols.index(i), 'Average value (Control villages)', control_average)\n",
    "    \n",
    "    t = stats.ttest_ind(treatment_village[i], control_village[i], nan_policy='omit')\n",
    "    \n",
    "    baseline.set_value(cols.index(i), 'Difference (Treat - Control)', treatment_average - control_average)\n",
    "    baseline.set_value(cols.index(i), 'p-value', t.pvalue)\n",
    "baseline.sort_values(by=['Variable name'], ascending = True)\n"
   ]
  },
  {
   "cell_type": "markdown",
   "metadata": {
    "ein.tags": [
     "worksheet-0"
    ],
    "slideshow": {
     "slide_type": "-"
    }
   },
   "source": [
    "### 1.3 Interpretation\n",
    "\n",
    "* A: Are there statistically significant differences between treatment and control villages as baseline? \n",
    "* B: Why does it matter if there are differences at baseline?\n",
    "* C: What does this imply about how to measure the impact of the treatment?"
   ]
  },
  {
   "cell_type": "markdown",
   "metadata": {
    "ein.tags": [
     "worksheet-0"
    ],
    "slideshow": {
     "slide_type": "-"
    }
   },
   "source": [
    "A: Yes, for some of the variables, there seems to be statistically significant differences between treatment and control villages as baseline. They have p-values that are under a standard alpha of 0.05.\n",
    "\n",
    "B: It matters if there are differences at baseline because if there are already differences before treatment and you find that there are differences after treatment, you cannot attribute the change from the treatment.\n",
    "\n",
    "C: This implies that we cannot accurately conclude that treatment was the cause for any changes between the two groups because there were already differences in the beginning. The two groups should be more similar at baseline in order for us to more accurately make conclusions after our analysis."
   ]
  },
  {
   "cell_type": "markdown",
   "metadata": {
    "ein.tags": [
     "worksheet-0"
    ],
    "slideshow": {
     "slide_type": "-"
    }
   },
   "source": [
    "### 1.4 Graphical exploration, part 1\n",
    "\n",
    "For each level of household head education, compute the average enrollment rate in 1997. Create a scatterplot that shows this relationship. What do you notice?"
   ]
  },
  {
   "cell_type": "code",
   "execution_count": 115,
   "metadata": {
    "autoscroll": "json-false",
    "collapsed": false,
    "ein.tags": [
     "worksheet-0"
    ],
    "slideshow": {
     "slide_type": "-"
    }
   },
   "outputs": [
    {
     "data": {
      "text/plain": [
       "(0, 1.5)"
      ]
     },
     "execution_count": 115,
     "metadata": {},
     "output_type": "execute_result"
    },
    {
     "data": {
      "image/png": "[encoded data removed]",
      "text/plain": [
       "<matplotlib.figure.Figure at 0x11bc1a390>"
      ]
     },
     "metadata": {},
     "output_type": "display_data"
    }
   ],
   "source": [
    "y = progresa[progresa['year'] == 97].groupby('hohedu').mean()['sc']\n",
    "x = y.index\n",
    "\n",
    "plt.scatter(x, y)\n",
    "plt.title('HoH Education Level and Average Enrollment Rate')\n",
    "plt.xlabel('Head of Household Education Level')\n",
    "plt.xlim([-1,21])\n",
    "plt.ylabel('Average Enrollrment Rate (1997)')\n",
    "plt.ylim([0,1.5])"
   ]
  },
  {
   "cell_type": "markdown",
   "metadata": {
    "ein.tags": [
     "worksheet-0"
    ],
    "slideshow": {
     "slide_type": "-"
    }
   },
   "source": [
    "From this scatter plot we see that for the most part, there seems to be a linear relationship between a HoH Education. Overall, there is a positive linear relationship between the two variables; as education level goes up, the average enrollment rate in 1997 also tends to go up as well. There is a slight dip at levels 10 and 14. There is also an extreme outlier at a HoH Education Level of 20 which could affect a linear regression line."
   ]
  },
  {
   "cell_type": "markdown",
   "metadata": {
    "ein.tags": [
     "worksheet-0"
    ],
    "slideshow": {
     "slide_type": "-"
    }
   },
   "source": [
    "### 1.5 Graphical exploration, part 2\n",
    "\n",
    "Create a histogram of village enrollment rates **among poor households in treated villages**, before and after treatment. Specifically, for each village, calculate the average rate of enrollment of poor households in treated villages in 1997, then compute the average rate of enrollment of poor households in treated villages in 1998. Create two separate histograms showing the distribution of these average enrollments rates, one histogram for 1997 and one histogram for 1998. On each histogram, draw a vertical line that intersects the x-axis at the average value (across all households). Does there appear to be a difference? Is this difference statistically significant?"
   ]
  },
  {
   "cell_type": "code",
   "execution_count": 175,
   "metadata": {
    "autoscroll": "json-false",
    "collapsed": false,
    "ein.tags": [
     "worksheet-0"
    ],
    "slideshow": {
     "slide_type": "-"
    }
   },
   "outputs": [
    {
     "data": {
      "text/plain": [
       "<matplotlib.lines.Line2D at 0x115657358>"
      ]
     },
     "execution_count": 175,
     "metadata": {},
     "output_type": "execute_result"
    },
    {
     "data": {
      "image/png": "[encoded data removed]",
      "text/plain": [
       "<matplotlib.figure.Figure at 0x12217f358>"
      ]
     },
     "metadata": {},
     "output_type": "display_data"
    },
    {
     "data": {
      "image/png": "[encoded data removed]",
      "text/plain": [
       "<matplotlib.figure.Figure at 0x12cd22a90>"
      ]
     },
     "metadata": {},
     "output_type": "display_data"
    }
   ],
   "source": [
    "enrollment_after_97 = progresa.loc[(progresa['poor'] == 'pobre') & (progresa['year'] == 97) & (progresa['progresa'] == 'basal')].groupby('village').mean()['sc']\n",
    "enrollment_after_98 = progresa.loc[(progresa['poor'] == 'pobre') & (progresa['year'] == 98) & (progresa['progresa'] == 'basal')].groupby('village').mean()['sc']\n",
    "\n",
    "enrollment_before_97 = progresa.loc[(progresa['poor'] == 'pobre') & (progresa['year'] == 97) & (progresa['progresa'] != 'basal')].groupby('village').mean()['sc']\n",
    "enrollment_before_98 = progresa.loc[(progresa['poor'] == 'pobre') & (progresa['year'] == 98) & (progresa['progresa'] != 'basal')].groupby('village').mean()['sc']\n",
    "\n",
    "plt.figure(1)\n",
    "plt.hist(enrollment_after_97)\n",
    "plt.axvline(enrollment_after_97.mean(), color ='r', linewidth=2)\n",
    "plt.figure(2)\n",
    "plt.hist(enrollment_after_98)\n",
    "plt.axvline(enrollment_after_98.mean(), color ='r', linewidth=2)"
   ]
  },
  {
   "cell_type": "markdown",
   "metadata": {
    "ein.tags": [
     "worksheet-0"
    ],
    "slideshow": {
     "slide_type": "-"
    }
   },
   "source": [
    "Does there appear to be a difference? Is this difference statistically significant?\n",
    "- From the histograms, it appears that the averages for the two groups are similar. However, when caluclating the pvalue below, we get a pvalue of 0.044 which is less than 0.05, so the two averages are statistically significant. The first histogram (97 data) shows less of a skew than the bottom graph(98 data), but both are visibilly skewed."
   ]
  },
  {
   "cell_type": "code",
   "execution_count": 192,
   "metadata": {
    "collapsed": false
   },
   "outputs": [
    {
     "data": {
      "text/plain": [
       "0.04424870036572115"
      ]
     },
     "execution_count": 192,
     "metadata": {},
     "output_type": "execute_result"
    }
   ],
   "source": [
    "thist = stats.ttest_ind(enrollment_after_97, enrollment_after_98, nan_policy='omit')\n",
    "thist.pvalue"
   ]
  },
  {
   "cell_type": "markdown",
   "metadata": {
    "ein.tags": [
     "worksheet-0"
    ],
    "slideshow": {
     "slide_type": "-"
    }
   },
   "source": [
    "## Part 2: Measuring Impact\n",
    "\n",
    "Our goal is to estimate the causal impact of the PROGRESA program on the social and economic outcomes of individuals in Mexico. We will focus on the impact of the program on the poor (those with poor=='pobre'), since only the poor were eligible to receive the PROGRESA assistance.\n",
    "\n",
    "### 2.1 Simple differences: T-test\n",
    "\n",
    "Begin by estimating the impact of Progresa using \"simple differences.\" Restricting yourself to data from 1998 (after treatment), calculate the average enrollment rate among **poor** households in the Treatment villages and the average enrollment rate among **poor** households in the control villages. Use a t-test to determine if this difference is statistically significant. What do you conclude?"
   ]
  },
  {
   "cell_type": "code",
   "execution_count": 125,
   "metadata": {
    "autoscroll": "json-false",
    "collapsed": false,
    "ein.tags": [
     "worksheet-0"
    ],
    "slideshow": {
     "slide_type": "-"
    }
   },
   "outputs": [
    {
     "data": {
      "text/plain": [
       "Ttest_indResult(statistic=-8.3587205674183735, pvalue=6.6363444473781018e-17)"
      ]
     },
     "execution_count": 125,
     "metadata": {},
     "output_type": "execute_result"
    }
   ],
   "source": [
    "treatment_village_98 = progresa.loc[(progresa['year'] == 98) & (progresa['progresa'] == 'basal') & (progresa['poor'] == 'pobre')]\n",
    "control_village_98 = progresa.loc[(progresa['year'] == 98) & (progresa['progresa'] != 'basal') & (progresa['poor'] == 'pobre')]\n",
    "\n",
    "t_test = stats.ttest_ind(control_village_98['sc'], treatment_village_98['sc'], nan_policy='omit')\n",
    "t_test"
   ]
  },
  {
   "cell_type": "markdown",
   "metadata": {
    "ein.tags": [
     "worksheet-0"
    ],
    "slideshow": {
     "slide_type": "-"
    }
   },
   "source": [
    "I calculated a p-value of 6.636e-17. This value is less than alpha (which we can take to be 0.05). From this, we can conclude that there is a statistically significant difference between the average enrollment rate of poor households in treatment and control villages after treatment was given. So, it appears that Progressa made a difference in average enrollment rates."
   ]
  },
  {
   "cell_type": "markdown",
   "metadata": {
    "ein.tags": [
     "worksheet-0"
    ],
    "slideshow": {
     "slide_type": "-"
    }
   },
   "source": [
    "### 2.2 Simple differences: Regression\n",
    "\n",
    "Estimate the effects of Progresa on enrollment using a regression model, by regressing the 1998 enrollment rates **of the poor** on treatment assignment. Discuss the following:\n",
    "\n",
    "* Based on this model, how much did Progresa increase the likelihood of a child enrolling?\n",
    "* How does your regression estimate compare to your t-test estimate from part 2.1?\n",
    "* Based on this regression model, can we reject the null hypothesis that the treatment effects are zero? \n",
    "* What is the counterfactual assumption underlying this regression?"
   ]
  },
  {
   "cell_type": "code",
   "execution_count": 73,
   "metadata": {
    "autoscroll": "json-false",
    "collapsed": false,
    "ein.tags": [
     "worksheet-0"
    ],
    "slideshow": {
     "slide_type": "-"
    }
   },
   "outputs": [
    {
     "data": {
      "text/html": [
       "<table class=\"simpletable\">\n",
       "<caption>OLS Regression Results</caption>\n",
       "<tr>\n",
       "  <th>Dep. Variable:</th>           <td>sc</td>        <th>  R-squared:         </th> <td>   0.003</td> \n",
       "</tr>\n",
       "<tr>\n",
       "  <th>Model:</th>                   <td>OLS</td>       <th>  Adj. R-squared:    </th> <td>   0.003</td> \n",
       "</tr>\n",
       "<tr>\n",
       "  <th>Method:</th>             <td>Least Squares</td>  <th>  F-statistic:       </th> <td>   69.87</td> \n",
       "</tr>\n",
       "<tr>\n",
       "  <th>Date:</th>             <td>Tue, 25 Apr 2017</td> <th>  Prob (F-statistic):</th> <td>6.64e-17</td> \n",
       "</tr>\n",
       "<tr>\n",
       "  <th>Time:</th>                 <td>15:02:57</td>     <th>  Log-Likelihood:    </th> <td> -11926.</td> \n",
       "</tr>\n",
       "<tr>\n",
       "  <th>No. Observations:</th>      <td> 27450</td>      <th>  AIC:               </th> <td>2.386e+04</td>\n",
       "</tr>\n",
       "<tr>\n",
       "  <th>Df Residuals:</th>          <td> 27448</td>      <th>  BIC:               </th> <td>2.387e+04</td>\n",
       "</tr>\n",
       "<tr>\n",
       "  <th>Df Model:</th>              <td>     1</td>      <th>                     </th>     <td> </td>    \n",
       "</tr>\n",
       "<tr>\n",
       "  <th>Covariance Type:</th>      <td>nonrobust</td>    <th>                     </th>     <td> </td>    \n",
       "</tr>\n",
       "</table>\n",
       "<table class=\"simpletable\">\n",
       "<tr>\n",
       "          <td></td>             <th>coef</th>     <th>std err</th>      <th>t</th>      <th>P>|t|</th> <th>[95.0% Conf. Int.]</th> \n",
       "</tr>\n",
       "<tr>\n",
       "  <th>Intercept</th>         <td>    0.8076</td> <td>    0.004</td> <td>  220.676</td> <td> 0.000</td> <td>    0.800     0.815</td>\n",
       "</tr>\n",
       "<tr>\n",
       "  <th>progresa[T.basal]</th> <td>    0.0388</td> <td>    0.005</td> <td>    8.359</td> <td> 0.000</td> <td>    0.030     0.048</td>\n",
       "</tr>\n",
       "</table>\n",
       "<table class=\"simpletable\">\n",
       "<tr>\n",
       "  <th>Omnibus:</th>       <td>7638.939</td> <th>  Durbin-Watson:     </th> <td>   1.734</td> \n",
       "</tr>\n",
       "<tr>\n",
       "  <th>Prob(Omnibus):</th>  <td> 0.000</td>  <th>  Jarque-Bera (JB):  </th> <td>15767.534</td>\n",
       "</tr>\n",
       "<tr>\n",
       "  <th>Skew:</th>           <td>-1.767</td>  <th>  Prob(JB):          </th> <td>    0.00</td> \n",
       "</tr>\n",
       "<tr>\n",
       "  <th>Kurtosis:</th>       <td> 4.140</td>  <th>  Cond. No.          </th> <td>    3.01</td> \n",
       "</tr>\n",
       "</table>"
      ],
      "text/plain": [
       "<class 'statsmodels.iolib.summary.Summary'>\n",
       "\"\"\"\n",
       "                            OLS Regression Results                            \n",
       "==============================================================================\n",
       "Dep. Variable:                     sc   R-squared:                       0.003\n",
       "Model:                            OLS   Adj. R-squared:                  0.003\n",
       "Method:                 Least Squares   F-statistic:                     69.87\n",
       "Date:                Tue, 25 Apr 2017   Prob (F-statistic):           6.64e-17\n",
       "Time:                        15:02:57   Log-Likelihood:                -11926.\n",
       "No. Observations:               27450   AIC:                         2.386e+04\n",
       "Df Residuals:                   27448   BIC:                         2.387e+04\n",
       "Df Model:                           1                                         \n",
       "Covariance Type:            nonrobust                                         \n",
       "=====================================================================================\n",
       "                        coef    std err          t      P>|t|      [95.0% Conf. Int.]\n",
       "-------------------------------------------------------------------------------------\n",
       "Intercept             0.8076      0.004    220.676      0.000         0.800     0.815\n",
       "progresa[T.basal]     0.0388      0.005      8.359      0.000         0.030     0.048\n",
       "==============================================================================\n",
       "Omnibus:                     7638.939   Durbin-Watson:                   1.734\n",
       "Prob(Omnibus):                  0.000   Jarque-Bera (JB):            15767.534\n",
       "Skew:                          -1.767   Prob(JB):                         0.00\n",
       "Kurtosis:                       4.140   Cond. No.                         3.01\n",
       "==============================================================================\n",
       "\n",
       "Warnings:\n",
       "[1] Standard Errors assume that the covariance matrix of the errors is correctly specified.\n",
       "\"\"\""
      ]
     },
     "execution_count": 73,
     "metadata": {},
     "output_type": "execute_result"
    }
   ],
   "source": [
    "poor_98 = progresa.loc[(progresa['year'] == 98) & (progresa['poor'] == 'pobre')]\n",
    "regression = sm.formula.ols(formula='sc ~ progresa', data=poor_98).fit()\n",
    "regression.summary()"
   ]
  },
  {
   "cell_type": "markdown",
   "metadata": {
    "ein.tags": [
     "worksheet-0"
    ],
    "slideshow": {
     "slide_type": "-"
    }
   },
   "source": [
    "Based on this model, how much did Progresa increase the likelihood of a child enrolling?\n",
    "- Based on this model, Progresa increased the likelihood of a child enrolling by 0.0388 (~4%).\n",
    "\n",
    "How does your regression estimate compare to your t-test estimate from part 2.1?\n",
    "- The regression estimate is extremely close, if not the exact same, to the t-test estimate from part 2.1. The regression estimate that I got was 6.64e-17 and from the t-test I got 6.636e-17.\n",
    "\n",
    "Based on this regression model, can we reject the null hypothesis that the treatment effects are zero?\n",
    "- From this regression model, we can reject the null hypothesis that the treatment effects are zero because our p-value is less than a standard alpha of 0.05. So, treatment appears to make a difference.\n",
    "\n",
    "What is the counterfactual assumption underlying this regression?\n",
    "- The counterfactual assumption underlying this regression is that there weren't differences already between treatment and control groups for baseline. "
   ]
  },
  {
   "cell_type": "markdown",
   "metadata": {
    "ein.tags": [
     "worksheet-0"
    ],
    "slideshow": {
     "slide_type": "-"
    }
   },
   "source": [
    "### 2.3 Multiple Regression\n",
    "\n",
    "Re-run the above regression estimated but this time include a set of control variables. Include, for instance, age, distance to a secondary school, gender, education of household head, welfare index, indigenous, etc.\n",
    "\n",
    "* How do the controls affect the point estimate of treatment effect?\n",
    "* How do the controls affect the standard error on the treatment effect? \n",
    "* How do you interpret the differences (or similarities) between your estimates of 2.2 and 2.3?"
   ]
  },
  {
   "cell_type": "code",
   "execution_count": 117,
   "metadata": {
    "autoscroll": "json-false",
    "collapsed": false,
    "ein.tags": [
     "worksheet-0"
    ],
    "slideshow": {
     "slide_type": "-"
    }
   },
   "outputs": [
    {
     "data": {
      "text/html": [
       "<table class=\"simpletable\">\n",
       "<caption>OLS Regression Results</caption>\n",
       "<tr>\n",
       "  <th>Dep. Variable:</th>           <td>sc</td>        <th>  R-squared:         </th> <td>   0.267</td> \n",
       "</tr>\n",
       "<tr>\n",
       "  <th>Model:</th>                   <td>OLS</td>       <th>  Adj. R-squared:    </th> <td>   0.267</td> \n",
       "</tr>\n",
       "<tr>\n",
       "  <th>Method:</th>             <td>Least Squares</td>  <th>  F-statistic:       </th> <td>   1419.</td> \n",
       "</tr>\n",
       "<tr>\n",
       "  <th>Date:</th>             <td>Tue, 25 Apr 2017</td> <th>  Prob (F-statistic):</th>  <td>  0.00</td>  \n",
       "</tr>\n",
       "<tr>\n",
       "  <th>Time:</th>                 <td>17:04:14</td>     <th>  Log-Likelihood:    </th> <td> -7639.4</td> \n",
       "</tr>\n",
       "<tr>\n",
       "  <th>No. Observations:</th>      <td> 27267</td>      <th>  AIC:               </th> <td>1.529e+04</td>\n",
       "</tr>\n",
       "<tr>\n",
       "  <th>Df Residuals:</th>          <td> 27259</td>      <th>  BIC:               </th> <td>1.536e+04</td>\n",
       "</tr>\n",
       "<tr>\n",
       "  <th>Df Model:</th>              <td>     7</td>      <th>                     </th>     <td> </td>    \n",
       "</tr>\n",
       "<tr>\n",
       "  <th>Covariance Type:</th>      <td>nonrobust</td>    <th>                     </th>     <td> </td>    \n",
       "</tr>\n",
       "</table>\n",
       "<table class=\"simpletable\">\n",
       "<tr>\n",
       "          <td></td>             <th>coef</th>     <th>std err</th>      <th>t</th>      <th>P>|t|</th> <th>[95.0% Conf. Int.]</th> \n",
       "</tr>\n",
       "<tr>\n",
       "  <th>Intercept</th>         <td>    1.5025</td> <td>    0.014</td> <td>  105.342</td> <td> 0.000</td> <td>    1.475     1.530</td>\n",
       "</tr>\n",
       "<tr>\n",
       "  <th>progresa[T.basal]</th> <td>    0.0352</td> <td>    0.004</td> <td>    8.799</td> <td> 0.000</td> <td>    0.027     0.043</td>\n",
       "</tr>\n",
       "<tr>\n",
       "  <th>age</th>               <td>   -0.0655</td> <td>    0.001</td> <td>  -95.105</td> <td> 0.000</td> <td>   -0.067    -0.064</td>\n",
       "</tr>\n",
       "<tr>\n",
       "  <th>dist_sec</th>          <td>   -0.0117</td> <td>    0.001</td> <td>  -13.361</td> <td> 0.000</td> <td>   -0.013    -0.010</td>\n",
       "</tr>\n",
       "<tr>\n",
       "  <th>sex</th>               <td>    0.0310</td> <td>    0.004</td> <td>    7.977</td> <td> 0.000</td> <td>    0.023     0.039</td>\n",
       "</tr>\n",
       "<tr>\n",
       "  <th>hohedu</th>            <td>    0.0085</td> <td>    0.001</td> <td>   10.951</td> <td> 0.000</td> <td>    0.007     0.010</td>\n",
       "</tr>\n",
       "<tr>\n",
       "  <th>welfare_index</th>     <td> 3.227e-05</td> <td> 1.72e-05</td> <td>    1.872</td> <td> 0.061</td> <td>-1.52e-06  6.61e-05</td>\n",
       "</tr>\n",
       "<tr>\n",
       "  <th>indig</th>             <td>    0.0468</td> <td>    0.004</td> <td>   11.283</td> <td> 0.000</td> <td>    0.039     0.055</td>\n",
       "</tr>\n",
       "</table>\n",
       "<table class=\"simpletable\">\n",
       "<tr>\n",
       "  <th>Omnibus:</th>       <td>2993.090</td> <th>  Durbin-Watson:     </th> <td>   1.718</td>\n",
       "</tr>\n",
       "<tr>\n",
       "  <th>Prob(Omnibus):</th>  <td> 0.000</td>  <th>  Jarque-Bera (JB):  </th> <td>4083.947</td>\n",
       "</tr>\n",
       "<tr>\n",
       "  <th>Skew:</th>           <td>-0.940</td>  <th>  Prob(JB):          </th> <td>    0.00</td>\n",
       "</tr>\n",
       "<tr>\n",
       "  <th>Kurtosis:</th>       <td> 3.248</td>  <th>  Cond. No.          </th> <td>4.90e+03</td>\n",
       "</tr>\n",
       "</table>"
      ],
      "text/plain": [
       "<class 'statsmodels.iolib.summary.Summary'>\n",
       "\"\"\"\n",
       "                            OLS Regression Results                            \n",
       "==============================================================================\n",
       "Dep. Variable:                     sc   R-squared:                       0.267\n",
       "Model:                            OLS   Adj. R-squared:                  0.267\n",
       "Method:                 Least Squares   F-statistic:                     1419.\n",
       "Date:                Tue, 25 Apr 2017   Prob (F-statistic):               0.00\n",
       "Time:                        17:04:14   Log-Likelihood:                -7639.4\n",
       "No. Observations:               27267   AIC:                         1.529e+04\n",
       "Df Residuals:                   27259   BIC:                         1.536e+04\n",
       "Df Model:                           7                                         \n",
       "Covariance Type:            nonrobust                                         \n",
       "=====================================================================================\n",
       "                        coef    std err          t      P>|t|      [95.0% Conf. Int.]\n",
       "-------------------------------------------------------------------------------------\n",
       "Intercept             1.5025      0.014    105.342      0.000         1.475     1.530\n",
       "progresa[T.basal]     0.0352      0.004      8.799      0.000         0.027     0.043\n",
       "age                  -0.0655      0.001    -95.105      0.000        -0.067    -0.064\n",
       "dist_sec             -0.0117      0.001    -13.361      0.000        -0.013    -0.010\n",
       "sex                   0.0310      0.004      7.977      0.000         0.023     0.039\n",
       "hohedu                0.0085      0.001     10.951      0.000         0.007     0.010\n",
       "welfare_index      3.227e-05   1.72e-05      1.872      0.061     -1.52e-06  6.61e-05\n",
       "indig                 0.0468      0.004     11.283      0.000         0.039     0.055\n",
       "==============================================================================\n",
       "Omnibus:                     2993.090   Durbin-Watson:                   1.718\n",
       "Prob(Omnibus):                  0.000   Jarque-Bera (JB):             4083.947\n",
       "Skew:                          -0.940   Prob(JB):                         0.00\n",
       "Kurtosis:                       3.248   Cond. No.                     4.90e+03\n",
       "==============================================================================\n",
       "\n",
       "Warnings:\n",
       "[1] Standard Errors assume that the covariance matrix of the errors is correctly specified.\n",
       "[2] The condition number is large, 4.9e+03. This might indicate that there are\n",
       "strong multicollinearity or other numerical problems.\n",
       "\"\"\""
      ]
     },
     "execution_count": 117,
     "metadata": {},
     "output_type": "execute_result"
    }
   ],
   "source": [
    "regression = sm.formula.ols(formula='sc ~ progresa + age + dist_sec + sex + hohedu + welfare_index + indig', data=poor_98).fit()\n",
    "regression.summary()"
   ]
  },
  {
   "cell_type": "markdown",
   "metadata": {
    "ein.tags": [
     "worksheet-0"
    ],
    "slideshow": {
     "slide_type": "-"
    }
   },
   "source": [
    "How do the controls affect the point estimate of treatment effect?\n",
    "- The controls slightly decreased the likelihood of Progressa causing a child to enroll. Without the control we calculated an estimate of Progresa increasing the likelihood by 0.0388 (~3.88%). With the controls we calculated an estimate of Progresa increasing the likelihood by 0.0352 (~3.52%). \n",
    "\n",
    "How do the controls affect the standard error on the treatment effect?\n",
    "- The controls lowered the standard error on the treatment effect slightly. It went from 0.005 to 0.004.\n",
    "\n",
    "How do you interpret the differences (or similarities) between your estimates of 2.2 and 2.3?\n",
    "- A big difference between my estimates in 2.2 and 2.3 was my R^2, which is a statistical measure of how close the data points are to the fitted regression line. It went from 0.003 without the controls to 0.267 with the controls. This means that with the controls, we calculated a better predictor / regression line. Since the coefficient for Progresa was pretty similar between the two, I would conclude that the other control variables used were better predictors for the enrollment rate."
   ]
  },
  {
   "cell_type": "markdown",
   "metadata": {
    "ein.tags": [
     "worksheet-0"
    ],
    "slideshow": {
     "slide_type": "-"
    }
   },
   "source": [
    "### 2.4 Difference-in-Difference, version 1 (tabular)\n",
    "\n",
    "Thus far, we have computed the effects of Progresa by estimating the difference in 1998 enrollment rates across villages. An alternative approach would be to compute the treatment effect using a difference-in-differences framework.\n",
    "\n",
    "Begin by estimating the average treatment effects of the program for poor households using data from 1997 and 1998. Specifically, calculate:\n",
    "a) the difference (between 1997 and 1998) in enrollment rates among poor households in treated villages\n",
    "b) the difference (between 1997 and 1998) in enrollment rates among poor households in control villages.\n",
    "c) The difference between these two differences is your estimate.\n",
    "\n",
    "* What is your estimate of the impact, and how does it compare to your earlier (simple difference) results?\n",
    "* What is the counterfactual assumption underlying this estimate? \n"
   ]
  },
  {
   "cell_type": "code",
   "execution_count": 185,
   "metadata": {
    "autoscroll": "json-false",
    "collapsed": false,
    "ein.tags": [
     "worksheet-0"
    ],
    "slideshow": {
     "slide_type": "-"
    }
   },
   "outputs": [
    {
     "data": {
      "text/plain": [
       "0.031331280319323085"
      ]
     },
     "execution_count": 185,
     "metadata": {},
     "output_type": "execute_result"
    }
   ],
   "source": [
    "poor_98 = progresa.loc[(progresa['year'] == 98) & (progresa['poor'] == 'pobre')]\n",
    "treatment_average_98 = poor_98['sc'][poor_98.progresa == 'basal'].mean()\n",
    "control_average_98 = poor_98['sc'][poor_98.progresa != 'basal'].mean()\n",
    "\n",
    "poor_97 = progresa.loc[(progresa['year'] == 97) & (progresa['poor'] == 'pobre')]\n",
    "treatment_average_97 = poor_97['sc'][poor_97.progresa == 'basal'].mean()\n",
    "control_average_97 = poor_97['sc'][poor_97.progresa != 'basal'].mean()\n",
    "\n",
    "#a\n",
    "treatment_differences = treatment_average_98 - treatment_average_97\n",
    "\n",
    "#b\n",
    "control_differences = control_average_98 - control_average_97\n",
    "\n",
    "#c\n",
    "treatment_differences - control_differences"
   ]
  },
  {
   "cell_type": "markdown",
   "metadata": {
    "ein.tags": [
     "worksheet-0"
    ],
    "slideshow": {
     "slide_type": "-"
    }
   },
   "source": [
    "What is your estimate of the impact, and how does it compare to your earlier (simple difference) results?\n",
    "- The estimate calculated here is 0.0313. It is similar, but slightly less, than the estimates I calculated above (0.0388, 0.0352).\n",
    "\n",
    "What is the counterfactual assumption underlying this estimate?\n",
    "- The counterfactual assumption underlying this estimate is that the control group and the treatment group would have been the same before treatment (year 97 data)."
   ]
  },
  {
   "cell_type": "markdown",
   "metadata": {
    "ein.tags": [
     "worksheet-0"
    ],
    "slideshow": {
     "slide_type": "-"
    }
   },
   "source": [
    "### 2.5 Difference-in-Difference, version 2 (regression)\n",
    "\n",
    "Now use a regression specification to estimate the average treatment effects of the program in a difference-in-differences framework. Include at least 5 control variables.\n",
    "\n",
    "* What is your estimate of the impact of Progresa? Be very specific in interpreting your coefficients and standard errors, and make sure to specify exactly what units you are measuring and estimating.\n",
    "* How do these estimates of the treatment effect compare to the estimates based on the simple difference?\n",
    "* How do these estimates compare to the difference-in-difference estimates from 2.4 above? What accounts for these differences?\n",
    "* What is the counterfactual assumption underlying this regression? "
   ]
  },
  {
   "cell_type": "code",
   "execution_count": 182,
   "metadata": {
    "autoscroll": "json-false",
    "collapsed": false,
    "ein.tags": [
     "worksheet-0"
    ],
    "slideshow": {
     "slide_type": "-"
    }
   },
   "outputs": [],
   "source": [
    "#Converting poor and year columns to binary\n",
    "progresa.loc[progresa.poor == 'pobre', 'poor2'] = 1\n",
    "progresa.loc[progresa.poor !=  'pobre', 'poor2'] = 0\n",
    "progresa.loc[progresa.year == 97, 'year2'] = 0\n",
    "progresa.loc[progresa.year == 98, 'year2'] = 1"
   ]
  },
  {
   "cell_type": "code",
   "execution_count": 184,
   "metadata": {
    "collapsed": false
   },
   "outputs": [
    {
     "data": {
      "text/html": [
       "<table class=\"simpletable\">\n",
       "<caption>OLS Regression Results</caption>\n",
       "<tr>\n",
       "  <th>Dep. Variable:</th>           <td>sc</td>        <th>  R-squared:         </th> <td>   0.279</td> \n",
       "</tr>\n",
       "<tr>\n",
       "  <th>Model:</th>                   <td>OLS</td>       <th>  Adj. R-squared:    </th> <td>   0.278</td> \n",
       "</tr>\n",
       "<tr>\n",
       "  <th>Method:</th>             <td>Least Squares</td>  <th>  F-statistic:       </th> <td>   2488.</td> \n",
       "</tr>\n",
       "<tr>\n",
       "  <th>Date:</th>             <td>Tue, 25 Apr 2017</td> <th>  Prob (F-statistic):</th>  <td>  0.00</td>  \n",
       "</tr>\n",
       "<tr>\n",
       "  <th>Time:</th>                 <td>19:01:25</td>     <th>  Log-Likelihood:    </th> <td> -16656.</td> \n",
       "</tr>\n",
       "<tr>\n",
       "  <th>No. Observations:</th>      <td> 58013</td>      <th>  AIC:               </th> <td>3.333e+04</td>\n",
       "</tr>\n",
       "<tr>\n",
       "  <th>Df Residuals:</th>          <td> 58003</td>      <th>  BIC:               </th> <td>3.342e+04</td>\n",
       "</tr>\n",
       "<tr>\n",
       "  <th>Df Model:</th>              <td>     9</td>      <th>                     </th>     <td> </td>    \n",
       "</tr>\n",
       "<tr>\n",
       "  <th>Covariance Type:</th>      <td>nonrobust</td>    <th>                     </th>     <td> </td>    \n",
       "</tr>\n",
       "</table>\n",
       "<table class=\"simpletable\">\n",
       "<tr>\n",
       "             <td></td>                <th>coef</th>     <th>std err</th>      <th>t</th>      <th>P>|t|</th> <th>[95.0% Conf. Int.]</th> \n",
       "</tr>\n",
       "<tr>\n",
       "  <th>Intercept</th>               <td>    1.4711</td> <td>    0.010</td> <td>  149.640</td> <td> 0.000</td> <td>    1.452     1.490</td>\n",
       "</tr>\n",
       "<tr>\n",
       "  <th>progresa[T.basal]</th>       <td>    0.0044</td> <td>    0.004</td> <td>    1.169</td> <td> 0.242</td> <td>   -0.003     0.012</td>\n",
       "</tr>\n",
       "<tr>\n",
       "  <th>year2</th>                   <td>    0.0278</td> <td>    0.004</td> <td>    6.370</td> <td> 0.000</td> <td>    0.019     0.036</td>\n",
       "</tr>\n",
       "<tr>\n",
       "  <th>progresa[T.basal]:year2</th> <td>    0.0309</td> <td>    0.006</td> <td>    5.582</td> <td> 0.000</td> <td>    0.020     0.042</td>\n",
       "</tr>\n",
       "<tr>\n",
       "  <th>age</th>                     <td>   -0.0655</td> <td>    0.000</td> <td> -143.552</td> <td> 0.000</td> <td>   -0.066    -0.065</td>\n",
       "</tr>\n",
       "<tr>\n",
       "  <th>dist_sec</th>                <td>   -0.0108</td> <td>    0.001</td> <td>  -17.378</td> <td> 0.000</td> <td>   -0.012    -0.010</td>\n",
       "</tr>\n",
       "<tr>\n",
       "  <th>sex</th>                     <td>    0.0338</td> <td>    0.003</td> <td>   12.625</td> <td> 0.000</td> <td>    0.029     0.039</td>\n",
       "</tr>\n",
       "<tr>\n",
       "  <th>hohedu</th>                  <td>    0.0075</td> <td>    0.001</td> <td>   13.841</td> <td> 0.000</td> <td>    0.006     0.009</td>\n",
       "</tr>\n",
       "<tr>\n",
       "  <th>welfare_index</th>           <td> 3.555e-05</td> <td> 1.19e-05</td> <td>    2.986</td> <td> 0.003</td> <td> 1.22e-05  5.89e-05</td>\n",
       "</tr>\n",
       "<tr>\n",
       "  <th>indig</th>                   <td>    0.0499</td> <td>    0.003</td> <td>   17.363</td> <td> 0.000</td> <td>    0.044     0.055</td>\n",
       "</tr>\n",
       "</table>\n",
       "<table class=\"simpletable\">\n",
       "<tr>\n",
       "  <th>Omnibus:</th>       <td>5532.977</td> <th>  Durbin-Watson:     </th> <td>   1.483</td>\n",
       "</tr>\n",
       "<tr>\n",
       "  <th>Prob(Omnibus):</th>  <td> 0.000</td>  <th>  Jarque-Bera (JB):  </th> <td>7289.118</td>\n",
       "</tr>\n",
       "<tr>\n",
       "  <th>Skew:</th>           <td>-0.866</td>  <th>  Prob(JB):          </th> <td>    0.00</td>\n",
       "</tr>\n",
       "<tr>\n",
       "  <th>Kurtosis:</th>       <td> 3.116</td>  <th>  Cond. No.          </th> <td>5.02e+03</td>\n",
       "</tr>\n",
       "</table>"
      ],
      "text/plain": [
       "<class 'statsmodels.iolib.summary.Summary'>\n",
       "\"\"\"\n",
       "                            OLS Regression Results                            \n",
       "==============================================================================\n",
       "Dep. Variable:                     sc   R-squared:                       0.279\n",
       "Model:                            OLS   Adj. R-squared:                  0.278\n",
       "Method:                 Least Squares   F-statistic:                     2488.\n",
       "Date:                Tue, 25 Apr 2017   Prob (F-statistic):               0.00\n",
       "Time:                        19:01:25   Log-Likelihood:                -16656.\n",
       "No. Observations:               58013   AIC:                         3.333e+04\n",
       "Df Residuals:                   58003   BIC:                         3.342e+04\n",
       "Df Model:                           9                                         \n",
       "Covariance Type:            nonrobust                                         \n",
       "===========================================================================================\n",
       "                              coef    std err          t      P>|t|      [95.0% Conf. Int.]\n",
       "-------------------------------------------------------------------------------------------\n",
       "Intercept                   1.4711      0.010    149.640      0.000         1.452     1.490\n",
       "progresa[T.basal]           0.0044      0.004      1.169      0.242        -0.003     0.012\n",
       "year2                       0.0278      0.004      6.370      0.000         0.019     0.036\n",
       "progresa[T.basal]:year2     0.0309      0.006      5.582      0.000         0.020     0.042\n",
       "age                        -0.0655      0.000   -143.552      0.000        -0.066    -0.065\n",
       "dist_sec                   -0.0108      0.001    -17.378      0.000        -0.012    -0.010\n",
       "sex                         0.0338      0.003     12.625      0.000         0.029     0.039\n",
       "hohedu                      0.0075      0.001     13.841      0.000         0.006     0.009\n",
       "welfare_index            3.555e-05   1.19e-05      2.986      0.003      1.22e-05  5.89e-05\n",
       "indig                       0.0499      0.003     17.363      0.000         0.044     0.055\n",
       "==============================================================================\n",
       "Omnibus:                     5532.977   Durbin-Watson:                   1.483\n",
       "Prob(Omnibus):                  0.000   Jarque-Bera (JB):             7289.118\n",
       "Skew:                          -0.866   Prob(JB):                         0.00\n",
       "Kurtosis:                       3.116   Cond. No.                     5.02e+03\n",
       "==============================================================================\n",
       "\n",
       "Warnings:\n",
       "[1] Standard Errors assume that the covariance matrix of the errors is correctly specified.\n",
       "[2] The condition number is large, 5.02e+03. This might indicate that there are\n",
       "strong multicollinearity or other numerical problems.\n",
       "\"\"\""
      ]
     },
     "execution_count": 184,
     "metadata": {},
     "output_type": "execute_result"
    }
   ],
   "source": [
    "poor = progresa[progresa['poor2'] == 1]\n",
    "difference = sm.formula.ols(formula = 'sc ~ progresa + year2 + progresa:year2 + age + dist_sec + sex + hohedu + welfare_index + indig', data=poor).fit()\n",
    "difference.summary()"
   ]
  },
  {
   "cell_type": "markdown",
   "metadata": {
    "ein.tags": [
     "worksheet-0"
    ],
    "slideshow": {
     "slide_type": "-"
    }
   },
   "source": [
    "What is your estimate of the impact of Progresa? Be very specific in interpreting your coefficients and standard errors, and make sure to specify exactly what units you are measuring and estimating.\n",
    "- From this regression, the estimate for the impact of Progressa is 0.0309 (~3.1%). This means that Progressa increases the likelihood of a child enrolling by 3.1%. The standard error is 0.006. This estimates the variability between sample means that we would obtain if we took multiple samples from the same population\n",
    "\n",
    "How do these estimates of the treatment effect compare to the estimates based on the simple difference?\n",
    "- Compared to the simple difference, this estimate is less. The simple differences estimated 0.0388.\n",
    "\n",
    "How do these estimates compare to the difference-in-difference estimates from 2.4 above? What accounts for these differences?\n",
    "- Compared to the difference in differences, this estimate is slightly less. The difference in differences estimated 0.0313.\n",
    "\n",
    "What is the counterfactual assumption underlying this regression?\n",
    "- The counterfactual assumption underlying this regression is that the treatment and control group baselines were the same before treatment was applied."
   ]
  },
  {
   "cell_type": "markdown",
   "metadata": {
    "ein.tags": [
     "worksheet-0"
    ],
    "slideshow": {
     "slide_type": "-"
    }
   },
   "source": [
    "### 2.6 Summary\n",
    "\n",
    "* Based on all the analysis you have undertaken to date, do you believe that Progresa had a causal impact on the enrollment rates of poor households in Mexico? \n",
    "* Describe one other way that you might analyze these data to further investigate the causal impact of Progresa on enrollment, and clearly state the counterfactual assumption you would need to make for that approach to be valid.  *(Hint: Consider using the non-poor in your analysis)*"
   ]
  },
  {
   "cell_type": "markdown",
   "metadata": {
    "ein.tags": [
     "worksheet-0"
    ],
    "slideshow": {
     "slide_type": "-"
    }
   },
   "source": [
    "From the analysis done above, I don't believe that we can be certain that Progresa had a causal impact on the enrollment rates. The baselines, as we saw, showed differences between the treatment and control groups before treatment was done. Therefore, it is hard to say afterwards if Progresa did have an impact that resulted in differences between the two groups. However, through the tests we ran, we did see a difference between the two groups, from the p-value and coefficients/impact. The impact we calculated was only around 3-4% increased likelihood in a child enrolling. But, it is hard to say that it had a causal impact because of those differing starting baselines.\n",
    "\n",
    "Another way we might analyze the data further is to compare the treatment and control groups that were not poor. After analyzing the differences in averages for the variables for the baseline, we might find that the baselines are more similar than they were for the poor. Therefore, if we find that there were differences between the two groups after treatment, we can more accurately conclude that Progresa had a causal impact. The counterfactual assumption we would need to make for that approach to be valid is that the baselines of the two groups don't have significant differences."
   ]
  },
  {
   "cell_type": "code",
   "execution_count": null,
   "metadata": {
    "collapsed": true
   },
   "outputs": [],
   "source": []
  }
 ],
 "metadata": {
  "anaconda-cloud": {},
  "kernelspec": {
   "display_name": "Python [conda root]",
   "language": "python",
   "name": "conda-root-py"
  },
  "language_info": {
   "codemirror_mode": {
    "name": "ipython",
    "version": 3
   },
   "file_extension": ".py",
   "mimetype": "text/x-python",
   "name": "python",
   "nbconvert_exporter": "python",
   "pygments_lexer": "ipython3",
   "version": "3.5.2"
  },
  "name": "INFO371-PS2.ipynb"
 },
 "nbformat": 4,
 "nbformat_minor": 0
}
